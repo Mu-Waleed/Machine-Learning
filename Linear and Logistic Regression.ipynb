{
  "cells": [
    {
      "cell_type": "markdown",
      "metadata": {
        "id": "03373c37"
      },
      "source": [
        "# Machine Learning (CS535): Assignment 2\n",
        "## Linear and Logistic Regression\n",
        "#### Name: Muhammad Waleed\n",
        "#### Roll Number: 22030017"
      ],
      "id": "03373c37"
    },
    {
      "cell_type": "markdown",
      "metadata": {
        "id": "b52f8f19"
      },
      "source": [
        "### Instructions\n",
        "\n",
        "\n",
        "*   The aim of this assignment is to implement linear and logistic regression from scratch.\n",
        "*   You must use the Python programming language.\n",
        "*   You can add as many code/markdown cells as required.\n",
        "*   ALL cells must be run (and outputs visible) in order to get credit for your work.\n",
        "*   Please use procedural programming style and comment your code thoroughly.\n",
        "*   There are two parts of this assignment. In part 1, you can use **NumPy**, **Pandas**, **Matplotlib**, **Seaborn**, and any other standard Python libraries. You are $\\color{red}{\\text{not allowed}}$ to use **scikit-learn**, or any other machine learning toolkit. You can only use **scikit-learn** in part 2.\n",
        "*   **Carefully read the submission instructions and plagiarism policy.**\n",
        "*   Deadline to submit this assignment is 7th November 2022, 11:55pm on LMS.\n",
        "\n",
        "### Submission Instructions\n",
        "\n",
        "You should submit both your notebook file (.ipynb) and python script (.py) on LMS.\n",
        "Please name your files Name_RollNo_Assignment2. Zip these files in a folder and name\n",
        "the folder Name_RollNo_Assignment2. If you don't know how to save .ipynb as .py see\n",
        "[this](https://i.stack.imgur.com/L1rQH.png). Failing to submit any one of them might result in the reduction of marks.\n",
        "\n",
        "### Plagiarism Policy\n",
        "\n",
        "The code $\\color{red}{\\text{MUST}}$ be done independently. Any plagiarism or cheating of work from others\n",
        "or the internet will be immediately referred to the DC. If you are confused about what\n",
        "constitutes plagiarism, it is your responsibility to consult with the instructor or the TA\n",
        "in a timely manner. **PLEASE DO NOT LOOK AT ANYONE ELSE'S CODE\n",
        "NOR DISCUSS IT WITH THEM.**\n"
      ],
      "id": "b52f8f19"
    },
    {
      "cell_type": "markdown",
      "metadata": {
        "id": "d78cbb7c"
      },
      "source": [
        "### Introduction\n",
        "In this assignment, you will be implementing linerar regression and logistic regression models for the provided datasets from scratch. A description of the problem statement is given at the start of each part. \n",
        "\n",
        "Try to write modeular code as some of the functions you write for task 1 may be usable in task 2.\n",
        "\n",
        "Have fun!"
      ],
      "id": "d78cbb7c"
    },
    {
      "cell_type": "markdown",
      "metadata": {
        "id": "dfb0858b"
      },
      "source": [
        "## Task 1: Multivariate Linear Regression\n",
        "\n",
        "In this part, you will implement multivariate linear regression (from scratch) to predict the the median price of homes in a Boston suburb during the mid-1970s. To do this, you are given with the dataset that has 404 examples in the train set and 102 examples in test set. Each example has 13 input variables (features) and one output variable (price in $10,000s). Below is the description of input variables:\n",
        "\n",
        "- Per capita crime rate.\n",
        "- The proportion of residential land zoned for lots over 25,000 square feet.\n",
        "- The proportion of non-retail business acres per town.\n",
        "- Charles River dummy variable (= 1 if tract bounds river; 0 otherwise).\n",
        "- Nitric oxides concentration (parts per 10 million).\n",
        "- The average number of rooms per dwelling.\n",
        "- The proportion of owner-occupied units built before 1940.\n",
        "- Weighted distances to five Boston employment centers.\n",
        "- Index of accessibility to radial highways.\n",
        "- Full-value property-tax rate per $10,000.\n",
        "- Pupil-teacher ratio by town.\n",
        "- 1000 * (Bk - 0.63) ** 2 where Bk is the proportion of Black people by town.\n",
        "- Percentage lower status of the population.\n",
        "\n",
        "Each one of these input features is stored using a different scale. Some features are represented by a proportion between 0 and 1, other features are ranges between 1 and 12, some are ranges between 0 and 100, and so on. This is often the case with real-world data, and understanding how to explore and clean such data is an important skill to develop.\n",
        "\n",
        "A common way to normalize features that use different scales and ranges is:\n",
        "\n",
        "- Subtract the mean value of each feature from the dataset.\n",
        "- After subtracting the mean, additionally scale (divide) the feature values by their respective standard deviations.\n",
        "\n",
        "Note: We only use examples of the train set to estimate the mean and standard deviation.\n",
        "\n",
        "You have to follow exactly the same steps as above i.e. implement hypothesis, cost function and gradient descent for multivariate linear regression to learn parameters $\\theta$ using train set. Finally, report the cost (error) using your learned parameters $\\theta$ on test set. Expected Mean Square Error on this dataset is 11.5 - 12.5 approximately. \n",
        "\n",
        "We provide you with the code needed to load this dataset. The dataset is loaded from the data files into the variables `train_X`, `train_Y`, `test_X` and `test_Y`."
      ],
      "id": "dfb0858b"
    },
    {
      "cell_type": "markdown",
      "metadata": {
        "id": "a7012f9a"
      },
      "source": [
        "### Part A: Implementation from scratch\n",
        "\n",
        "Use the slides and textbook as a reference to write the gradient descent algorithm from scratch for this problem."
      ],
      "id": "a7012f9a"
    },
    {
      "cell_type": "code",
      "execution_count": 1,
      "metadata": {
        "colab": {
          "base_uri": "https://localhost:8080/"
        },
        "id": "bd302b60",
        "outputId": "3ec837f4-af25-4ec2-d215-474ac32d8f7e"
      },
      "outputs": [
        {
          "output_type": "stream",
          "name": "stdout",
          "text": [
            "Mounted at /content/drive\n"
          ]
        }
      ],
      "source": [
        "# Mount your Google Drive\n",
        "from google.colab import drive\n",
        "drive.mount('/content/drive')"
      ],
      "id": "bd302b60"
    },
    {
      "cell_type": "code",
      "execution_count": 12,
      "metadata": {
        "id": "mqUEICMnuRrl"
      },
      "outputs": [],
      "source": [
        "# importing modules\n",
        "import numpy as np\n",
        "import matplotlib.pyplot as plt"
      ],
      "id": "mqUEICMnuRrl"
    },
    {
      "cell_type": "code",
      "execution_count": 13,
      "metadata": {
        "id": "Ii2h7fnHsePE",
        "colab": {
          "base_uri": "https://localhost:8080/"
        },
        "outputId": "01da72cc-4cb7-4c71-bddf-57f93ed1a897"
      },
      "outputs": [
        {
          "output_type": "stream",
          "name": "stdout",
          "text": [
            "Number of train instances: 404\n",
            "Number of train features: 13\n",
            "Number of test instances: 102\n",
            "Number of train features: 13\n"
          ]
        }
      ],
      "source": [
        "# Reading the data from the files and analyzing it\n",
        "\n",
        "task1_path = \"/content/drive/MyDrive/Assignment 2/Dataset/Task1\"\n",
        "\n",
        "with open(task1_path + \"/trainLabels.txt\", \"r\") as f:\n",
        "  train_labels = f.readlines()\n",
        "\n",
        "with open(task1_path + \"/trainData.txt\", \"r\") as f:\n",
        "  train_data = f.readlines()\n",
        "\n",
        "with open(task1_path + \"/testLabels.txt\", \"r\") as f:\n",
        "  test_labels = f.readlines()\n",
        "\n",
        "with open(task1_path + \"/testData.txt\", \"r\") as f:\n",
        "  test_data = f.readlines()\n",
        "\n",
        "print(\"Number of train instances:\", len(train_data))\n",
        "print(\"Number of train features:\", len(train_data[0].split(\" \")))\n",
        "print(\"Number of test instances:\", len(test_data))\n",
        "print(\"Number of train features:\", len(test_data[0].split(\" \")))"
      ],
      "id": "Ii2h7fnHsePE"
    },
    {
      "cell_type": "code",
      "execution_count": 14,
      "metadata": {
        "colab": {
          "base_uri": "https://localhost:8080/"
        },
        "id": "WD-py-kouQZG",
        "outputId": "ff0a212e-4bd1-467e-e31c-7b532cde366d"
      },
      "outputs": [
        {
          "output_type": "stream",
          "name": "stdout",
          "text": [
            "Shape of input training data: (404, 13)\n",
            "Shape of input testing data: (102, 13)\n",
            "Shape of output training data: (404, 1)\n",
            "Shape of output testing data: (102, 1)\n"
          ]
        }
      ],
      "source": [
        "# Converting txt file data to numpy array\n",
        "\n",
        "def txt_to_numpy(txt_dataset):\n",
        "  l = []\n",
        "  for i in txt_dataset:\n",
        "    data = i.replace(\"\\n\", \"\").split(\" \")\n",
        "    to_int = []\n",
        "    for j in data:\n",
        "      to_int.append(float(j))\n",
        "    l.append(to_int)\n",
        "  \n",
        "  return np.array(l)\n",
        "\n",
        "\n",
        "x_train = txt_to_numpy(train_data)\n",
        "y_train = txt_to_numpy(train_labels)\n",
        "x_test = txt_to_numpy(test_data)\n",
        "y_test = txt_to_numpy(test_labels)\n",
        "\n",
        "print(\"Shape of input training data:\", x_train.shape)\n",
        "print(\"Shape of input testing data:\", x_test.shape)\n",
        "print(\"Shape of output training data:\", y_train.shape)\n",
        "print(\"Shape of output testing data:\", y_test.shape)"
      ],
      "id": "WD-py-kouQZG"
    },
    {
      "cell_type": "code",
      "execution_count": 15,
      "metadata": {
        "id": "KyEBTejr221L"
      },
      "outputs": [],
      "source": [
        "# Normalizing data\n",
        "\n",
        "x_train_standard_deviation = np.std(x_train, axis=0)\n",
        "x_train_mean = np.mean(x_train, axis=0)\n",
        "\n",
        "x_test_standard_deviation = np.std(x_test, axis=0)\n",
        "x_test_mean = np.mean(x_test, axis=0)\n",
        "\n",
        "norm_x_train = (x_train - x_train_mean)/ x_train_standard_deviation\n",
        "norm_x_test = (x_test - x_test_mean)/ x_test_standard_deviation\n"
      ],
      "id": "KyEBTejr221L"
    },
    {
      "cell_type": "code",
      "execution_count": 18,
      "metadata": {
        "id": "1OFTrhQK9u3r"
      },
      "outputs": [],
      "source": [
        "def hypothesis(x_train, y_train, weight): # linear regression\n",
        "  \n",
        "  y = np.matmul(np.transpose(weight), x_train)\n",
        "  return y, weight\n",
        "\n",
        "def MSE(y_pred, y_actual, cost=False): # Mean squared error\n",
        "  y_pred = np.transpose(y_pred)\n",
        "  if cost == True:\n",
        "    error = np.sum(np.square(y_pred - y_actual))/(2*y_actual.shape[0])\n",
        "  else:\n",
        "    error = np.sum(np.square(y_pred - y_actual))/(y_actual.shape[0])\n",
        "  return error"
      ],
      "id": "1OFTrhQK9u3r"
    },
    {
      "cell_type": "code",
      "execution_count": 28,
      "metadata": {
        "colab": {
          "base_uri": "https://localhost:8080/",
          "height": 314
        },
        "id": "DcO2AgV6YViU",
        "outputId": "65748acd-73c6-4c9f-9dfb-2ce5e43929f0"
      },
      "outputs": [
        {
          "output_type": "display_data",
          "data": {
            "text/plain": [
              "<Figure size 432x288 with 1 Axes>"
            ],
            "image/png": "[encoded data removed]"
          },
          "metadata": {
            "needs_background": "light"
          }
        },
        {
          "output_type": "stream",
          "name": "stdout",
          "text": [
            "Cost on training dataset: 11.486433908805791\n",
            "Cost on testing dataset: 10.051646499268585\n"
          ]
        }
      ],
      "source": [
        "# implementing Gradient Descent\n",
        "\n",
        "def gradient_descent(x_train, y_train, x_test, learning_rate, iterations): \n",
        "  weight = np.zeros((x_train.shape[1]+1, 1)) # initialzing weights\n",
        "  # Transforming x_train is such a way so that it bias will not be separate from the other weight matrix\n",
        "  x = x_train.copy()\n",
        "  x = np.transpose(x)  \n",
        "  arr = np.ones((1,x_train.shape[0]))\n",
        "  x = np.insert(x, 0, arr, axis=0)\n",
        "  result = []\n",
        "  run = []\n",
        "\n",
        "  run_to = 100\n",
        "  if iterations <= 500:\n",
        "    run_to = 10\n",
        "  c = 0\n",
        "  for i in range(iterations): # iteration for gradient descent\n",
        "    y_pred, weight = hypothesis(x, y_train, weight)\n",
        "    c += 1\n",
        "    if c == run_to: # storing MSE after 100 iteration\n",
        "      error = MSE(y_pred, y_train)\n",
        "      result.append(error)\n",
        "      c = 0\n",
        "      run.append(i)\n",
        "    y_pred = np.transpose(y_pred)\n",
        "\n",
        "    # updating the weights\n",
        "    weight = np.subtract(weight, learning_rate * (((y_pred - y_train) * np.transpose(x)).mean(axis=0)).reshape(14,1))\n",
        "\n",
        "\n",
        "  plt.xlabel(\"Iteration\")\n",
        "  plt.ylabel(\"MSE\")\n",
        "  plt.plot(run, result)\n",
        "  plt.show()\n",
        "  return error, weight\n",
        "\n",
        "def predict(x_test, y_test, weight):  # prediction using trained weights\n",
        "  x = x_test.copy()\n",
        "  x = np.transpose(x)  \n",
        "  arr = np.ones((1,x_test.shape[0]))\n",
        "  x = np.insert(x, 0, arr, axis=0)\n",
        "  pred, weight = hypothesis(x, y_test, weight)\n",
        "  return pred\n",
        "\n",
        "\n",
        "def Linear_Regression(norm_x_train, y_train, norm_x_test, learning_rate, iterations):\n",
        "  error, weight = gradient_descent(norm_x_train, y_train, norm_x_test, learning_rate, iterations)\n",
        "  return error, weight\n",
        "\n",
        "# Running Linear Regression on training dataset\n",
        "error, weight = Linear_Regression(norm_x_train, y_train, norm_x_test, 0.001, 5000)\n",
        "\n",
        "\n",
        "# prediction on training dataset\n",
        "pred = predict(norm_x_train, y_train, weight)\n",
        "# prediction on testing dataset\n",
        "pred_test = predict(norm_x_test, y_test, weight)\n",
        "\n",
        "print(\"Cost on training dataset:\", MSE(pred, y_train, cost=True))\n",
        "print(\"Cost on testing dataset:\", MSE(pred_test, y_test, cost=True))"
      ],
      "id": "DcO2AgV6YViU"
    },
    {
      "cell_type": "markdown",
      "metadata": {
        "id": "d133d738"
      },
      "source": [
        "### Part B: Regularized Linear Regression Using Scikit-learn\n",
        "\n",
        "Now, you'll use the [scikit-learn](https://scikit-learn.org/stable/index.html) to implement [Linear Regression](https://scikit-learn.org/stable/modules/generated/sklearn.linear_model.LinearRegression.html), [Ridge](https://scikit-learn.org/stable/modules/generated/sklearn.linear_model.Ridge.html#sklearn.linear_model.Ridge), [Lasso](https://scikit-learn.org/stable/modules/generated/sklearn.linear_model.Lasso.html#sklearn.linear_model.Lasso), [Elastic Net](https://scikit-learn.org/stable/modules/generated/sklearn.linear_model.ElasticNet.html#sklearn.linear_model.ElasticNet) and apply them to Boston house pricing dataset (provided in part 2). Try out different values of regularization coefficient (known as alpha in scikit-learn) and use the [Mean Squared Error](https://scikit-learn.org/stable/modules/generated/sklearn.metrics.mean_squared_error.html) to report loss with each regression. Finally, plot the regularization coefficients alpha (x-axis) with learned parameters $\\theta$ (y-axis) for Ridge and Lasso. Please read [this blog](https://scienceloft.com/technical/understanding-lasso-and-ridge-regression/) to get better understanding of the desired plots."
      ],
      "id": "d133d738"
    },
    {
      "cell_type": "code",
      "execution_count": 29,
      "metadata": {
        "id": "_Tvgohsn5sfv"
      },
      "outputs": [],
      "source": [
        "# Importing the modules\n",
        "from sklearn.linear_model import LinearRegression, Ridge, Lasso, ElasticNet\n",
        "from sklearn.metrics import accuracy_score\n",
        "from sklearn.metrics import mean_squared_error"
      ],
      "id": "_Tvgohsn5sfv"
    },
    {
      "cell_type": "code",
      "execution_count": 72,
      "metadata": {
        "colab": {
          "base_uri": "https://localhost:8080/",
          "height": 712
        },
        "id": "xQCLM2ya34Bd",
        "outputId": "9ee73da9-5d6a-4907-a4da-5d1eb307a330"
      },
      "outputs": [
        {
          "output_type": "stream",
          "name": "stdout",
          "text": [
            "MSE using Linear Regression on Testing dataset:  20.982945190702583\n",
            "MSE using Ridge on Testing dataset:  20.89920040025166\n",
            "MSE using Lasso on Testing dataset:  20.15955164250332\n",
            "MSE using Elastic Net on Testing dataset:  25.16263185764403\n"
          ]
        },
        {
          "output_type": "display_data",
          "data": {
            "text/plain": [
              "<Figure size 432x288 with 1 Axes>"
            ],
            "image/png": "[encoded data removed]"
          },
          "metadata": {
            "needs_background": "light"
          }
        },
        {
          "output_type": "stream",
          "name": "stdout",
          "text": [
            "If we select starting log aplha 8.52 and increment 7.6 for each iteration the log aplha for min MSE is: 8.52\n",
            "\n"
          ]
        },
        {
          "output_type": "display_data",
          "data": {
            "text/plain": [
              "<Figure size 432x288 with 1 Axes>"
            ],
            "image/png": "[encoded data removed]"
          },
          "metadata": {
            "needs_background": "light"
          }
        },
        {
          "output_type": "stream",
          "name": "stdout",
          "text": [
            "If we select starting log aplha -1.2 and increment -1.61 for each iteration the log aplha for min MSE is: -1.2\n",
            "\n"
          ]
        }
      ],
      "source": [
        "reg2 = LinearRegression().fit(norm_x_train, y_train) # Linear Regression\n",
        "y_pred = reg2.predict(norm_x_test) # prediction using Linear Regression\n",
        "print(\"MSE using Linear Regression on Testing dataset: \", mean_squared_error(y_test, y_pred)) # MSE on testing dataset\n",
        "\n",
        "\n",
        "ridge = Ridge(alpha=1).fit(norm_x_train, y_train) # using Ridge \n",
        "ridge_pred = ridge.predict(norm_x_test) # prediction using Ridge\n",
        "print(\"MSE using Ridge on Testing dataset: \", mean_squared_error(y_test, ridge_pred)) # MSE on testing dataset\n",
        "\n",
        "lasso = Lasso(alpha=0.1).fit(norm_x_train, y_train) # using Lasso \n",
        "lasso_pred = lasso.predict(norm_x_test) # prediction using Lasso\n",
        "print(\"MSE using Lasso on Testing dataset: \", mean_squared_error(y_test, lasso_pred)) # MSE on testing dataset\n",
        "\n",
        "elastic_net = ElasticNet(random_state=0).fit(norm_x_train, y_train) # using Ridge Elastic Net\n",
        "elastic_net_pred = elastic_net.predict(norm_x_test) # prediction using Elastic Net\n",
        "print(\"MSE using Elastic Net on Testing dataset: \", mean_squared_error(y_test, elastic_net_pred)) # MSE on testing dataset\n",
        "\n",
        "\n",
        "\n",
        "# alpha_start is staring value of alpha\n",
        "# alpha_increment is how much to increase alpha \n",
        "# features is how many features are present in the dataset\n",
        "# iterations is how many time to change/ increment alpha\n",
        "\n",
        "def alpha_plot(norm_x_train, y_train, norm_x_test, y_test, model=\"ridge\",  alpha_start=1000, alpha_increment=0.2, features=13, iterations=13): # Plot for different values of alpha for Ridge and Lasso\n",
        "  c =  alpha_start \n",
        "  l = []\n",
        "  weights = np.ones((features,iterations))\n",
        "  error = []\n",
        "  alpha = []\n",
        "  \n",
        "  for i in range(iterations): # storing results for different graphs for Ridge and Lasso \n",
        "    if model == \"ridge\":\n",
        "      ridge = Ridge(alpha=c).fit(norm_x_train, y_train)\n",
        "      pred = ridge.predict(norm_x_test)\n",
        "      error.append(mean_squared_error(y_test, pred))\n",
        "      alpha.append(np.log(c))\n",
        "      l.append(np.log(c))\n",
        "      coef = ridge.coef_\n",
        "      for j in range(len(coef[0])):\n",
        "        weights[j][i] = coef[0][j]\n",
        "    \n",
        "\n",
        "    else:\n",
        "      lasso = Lasso(alpha=c).fit(norm_x_train, y_train)\n",
        "      pred = lasso.predict(norm_x_test)\n",
        "      error.append(mean_squared_error(y_test, pred))\n",
        "      alpha.append(np.log(c))\n",
        "      l.append(np.log(c))\n",
        "      coef = lasso.coef_.reshape(1,13)\n",
        "      for j in range(len(coef[0])):\n",
        "        weights[j][i] = coef[0][j]   \n",
        "    c += alpha_increment\n",
        "  # plotting\n",
        "  plt.xlabel(\"Log Alpha\")\n",
        "  plt.ylabel(\"Coefficients\")\n",
        "  if model == \"ridge\":\n",
        "    plt.title(\"Ridge\")\n",
        "  else:\n",
        "    plt.title(\"Lasso\")\n",
        "  for i in weights:\n",
        "    plt.plot(l, i)\n",
        "\n",
        "  plt.show()\n",
        "  min_error = min(error)\n",
        "  min_alpha = alpha[error.index(min_error)]\n",
        "  print(f\"If we select starting log aplha {str(round(np.log(alpha_start), 2))} and increment {str(round(np.log(alpha_increment), 2))} for each iteration the log aplha for min MSE is: {str(round(min_alpha, 2))}\\n\")\n",
        "\n",
        "\n",
        "alpha_plot(norm_x_train, y_train, norm_x_test, y_test, model=\"ridge\", alpha_start=5000, alpha_increment=2000, features=x_train.shape[1], iterations=23)\n",
        "alpha_plot(norm_x_train, y_train, norm_x_test, y_test, model=\"lasso\", alpha_start=0.3, alpha_increment=0.2, features=x_train.shape[1], iterations=23)"
      ],
      "id": "xQCLM2ya34Bd"
    },
    {
      "cell_type": "markdown",
      "metadata": {
        "id": "797d9506"
      },
      "source": [
        "## Task 2: Logistic Regression"
      ],
      "id": "797d9506"
    },
    {
      "cell_type": "markdown",
      "metadata": {
        "id": "b5216e2a"
      },
      "source": [
        "#### Problem:\n",
        "The purpose of this assignment is to get you familiar with sentiment classification. By the end of this assignment you will have your very own “Sentiment Analyzer”. You are given with Large Movie Review Dataset that contains separate labelled train and test set. Your task is to train a Logistic Regression classifier on train set and report accuracy on test set.\n",
        "\n",
        "#### Dataset:\n",
        "The core dataset contains 50,000 reviews split evenly into 25k train and 25k test sets. The overall distribution of labels is balanced (25k pos and 25k neg). There are two top-level directories [train/, test/] corresponding to the training and test sets. Each contains [pos/, neg/] directories for the reviews with binary labels positive and negative. Within these directories, reviews are stored in text files named following the convention [[id]_[rating].txt] where [id] is a unique id and [rating] is the star rating for that review on a 1-10 scale. For example, the file [test/pos/200_8.txt] is the text for a positive-labeled test set example with unique id 200 and star rating 8/10 from IMDb.\n",
        "\n",
        "#### Preprocessing:\n",
        "In the preprocessing step you’re required to remove the stop words and punctuation marks and other unwanted characters from the reviews and convert them to lower case. You may find the string and regex module useful for this purpose. A stop word list is provided with the assignment statement.\n",
        "\n",
        "#### Feature Extraction:\n",
        "In the feature extraction step you can you’ll represent each review by the 3 features 𝑥0, 𝑥1, 𝑥2 and 1 class label 𝑦 as shown in the table below:\n",
        "\n",
        "| Feature | Definition | Comment |\n",
        "| --- | --- | --- |\n",
        "| x_0 | count(positive words) ∈ review | Positive lexicon is provided |\n",
        "| --- | --- | --- |\n",
        "| x_2 | count(negative words) ∈ review | Negative lexicon is provided |\n",
        "| --- | --- | --- |\n",
        "| y | 1 if positive, 0 otherwise | Mentioned in directory name |\n"
      ],
      "id": "b5216e2a"
    },
    {
      "cell_type": "markdown",
      "metadata": {
        "id": "331017de"
      },
      "source": [
        "### Part A: Implementation from scratch\n",
        "\n",
        "#### Guidelines:\n",
        "Implement the following in order to complete this part:\n",
        "* Sigmoid function\n",
        "* Cross-entropy loss function\n",
        "* Batch Gradient Descent\n",
        "* Prediction function that predict whether the label is 0 or 1 for test reviews using learned logistic regression (use the decision threshold of 0.5)\n",
        "* Evaluation function that calculates classification accuracy and confusion matrix on test set (the expected accuracy on the test set is around 72%)\n",
        "* Report plots with no. of iterations/ epochs on x-axis and training/ validation loss on y-axis."
      ],
      "id": "331017de"
    },
    {
      "cell_type": "code",
      "source": [
        "# importing modules\n",
        "import os\n",
        "import re\n",
        "from google.colab import output"
      ],
      "metadata": {
        "id": "YReeq0r0Rywe"
      },
      "id": "YReeq0r0Rywe",
      "execution_count": 73,
      "outputs": []
    },
    {
      "cell_type": "code",
      "execution_count": 74,
      "metadata": {
        "id": "245afd60",
        "colab": {
          "base_uri": "https://localhost:8080/"
        },
        "outputId": "49b65df1-1e4d-4eed-e061-ed2e1b991844"
      },
      "outputs": [
        {
          "output_type": "stream",
          "name": "stdout",
          "text": [
            "/test/neg 12500\n"
          ]
        }
      ],
      "source": [
        "# Reading the data from the files and analyzing it\n",
        "\n",
        "task2_path = \"/content/drive/MyDrive/Assignment 2/Dataset/Task2\"\n",
        "\n",
        "\n",
        "# reading the negative words\n",
        "with open(task2_path + \"/negative_words.txt\", \"r\", encoding=\"ISO-8859-1\") as f:\n",
        "  negative_words = f.readlines()\n",
        "  negative_words_list = []\n",
        "  for i in negative_words:\n",
        "    negative_words_list.append(i.replace(\"\\n\", \"\"))\n",
        "\n",
        "# reading the positive words\n",
        "with open(task2_path + \"/positive_words.txt\", \"r\") as f:\n",
        "  positive_words = f.readlines()\n",
        "  positive_words_list = []\n",
        "  for i in positive_words:\n",
        "    positive_words_list.append(i.replace(\"\\n\", \"\"))\n",
        "\n",
        "# reading the stop words\n",
        "with open(task2_path + \"/stop_words.txt\", \"r\") as f:\n",
        "  stop_words = f.readlines()\n",
        "  stop_words_list = []\n",
        "  for i in stop_words:\n",
        "    i = i.replace(\"\\n\", \"\")\n",
        "    i = re.sub(r'[^\\w\\s]', '', i)\n",
        "    stop_words_list.append(i)\n",
        "\n",
        "# reading the dataset and applying the preprocessing steps\n",
        "def read_dataset(folder_path, lab):\n",
        "  files_done = 0\n",
        "  data = []\n",
        "  label = []\n",
        "  for i in os.listdir(task2_path + folder_path):\n",
        "    output.clear() # used to clear the ouput of colab so I can know how many files have been processed\n",
        "    files_done += 1\n",
        "    print(folder_path, files_done)\n",
        "    with open(task2_path + folder_path + \"/\" + i, \"r\") as f:\n",
        "      para = f.readlines()\n",
        "      para = re.sub(r'[^\\w\\s]', '', para[0]) # removing the puntucations\n",
        "      para = para.split(\" \")\n",
        "      postive_count = 0\n",
        "      negative_count = 0\n",
        "      for i in para:\n",
        "        j = i.lower()\n",
        "        if j in stop_words_list:  # removing the stops words\n",
        "          para.remove(i)\n",
        "        elif j in positive_words_list:  # counting the positive words\n",
        "          postive_count += 1\n",
        "        elif j in negative_words_list:  # counting the negative words\n",
        "          negative_count += 1\n",
        "      \n",
        "      result = np.array([postive_count, negative_count])\n",
        "      data.append(result)\n",
        "      label.append(lab)\n",
        "\n",
        "  return label, data\n",
        "\n",
        "label_pos_train, data_pos_train = read_dataset(folder_path=\"/train/pos\", lab=1)\n",
        "label_neg_train, data_neg_train = read_dataset(folder_path=\"/train/neg\", lab=0)\n",
        "label_pos_test, data_pos_test = read_dataset(folder_path=\"/test/pos\", lab=1)\n",
        "label_neg_test, data_neg_test = read_dataset(folder_path=\"/test/neg\", lab=0)"
      ],
      "id": "245afd60"
    },
    {
      "cell_type": "code",
      "source": [
        "# Merging positive and negative dataset for training and testing\n",
        "\n",
        "y_train = np.array(label_pos_train + label_neg_train).reshape(25000,1)\n",
        "x_train = np.array(data_pos_train + data_neg_train)\n",
        "y_test = np.array(label_pos_test + label_neg_test).reshape(25000,1)\n",
        "x_test = np.array(data_pos_test + data_neg_test)\n",
        "\n",
        "\n",
        "print(\"Shape of input training data:\", x_train.shape)\n",
        "print(\"Shape of input testing data:\", x_test.shape)\n",
        "print(\"Shape of output training data:\", y_train.shape)\n",
        "print(\"Shape of output testing data:\", y_test.shape)"
      ],
      "metadata": {
        "colab": {
          "base_uri": "https://localhost:8080/"
        },
        "id": "ENVTakA0UNeH",
        "outputId": "9a66f257-ac10-46dd-c14f-b9f097e596cf"
      },
      "id": "ENVTakA0UNeH",
      "execution_count": 79,
      "outputs": [
        {
          "output_type": "stream",
          "name": "stdout",
          "text": [
            "Shape of input training data: (25000, 2)\n",
            "Shape of input testing data: (25000, 2)\n",
            "Shape of output training data: (25000, 1)\n",
            "Shape of output testing data: (25000, 1)\n"
          ]
        }
      ]
    },
    {
      "cell_type": "code",
      "source": [
        "def sigmoid(x): # sigmoid\n",
        "  z = 1/(1+np.exp(-x))\n",
        "  return z\n",
        "\n",
        "def hypothesis(x_train, y_train, weight):\n",
        "  \n",
        "  y = np.matmul(np.transpose(weight), x_train)\n",
        "  y = sigmoid(y)\n",
        "  return y, weight\n",
        "\n",
        "def cost(y_pred, y_actual, cost=False): # cost function\n",
        "  cost1 = -np.sum(y_actual*np.log(y_pred) + (1-y_actual)*np.log(1-y_pred))/y_pred.shape[0]\n",
        "  return cost1\n"
      ],
      "metadata": {
        "id": "6L-GN1T7oyZq"
      },
      "id": "6L-GN1T7oyZq",
      "execution_count": 193,
      "outputs": []
    },
    {
      "cell_type": "code",
      "source": [
        "# implementing Gradient Descent\n",
        "def gradient_descent(x_train, y_train, x_test,learning_rate, iterations):\n",
        "  weight = np.zeros((x_train.shape[1]+1, 1)) # initialzing weights\n",
        "  # Transforming x_train is such a way so that it bias will not be separate from the other weight matrix\n",
        "  x = x_train.copy()\n",
        "  x = np.transpose(x)  \n",
        "  arr = np.ones((1,x_train.shape[0]))\n",
        "  x = np.insert(x, 0, arr, axis=0)\n",
        "  result = []\n",
        "  run = []\n",
        "  c = 0\n",
        "  run_to = 100\n",
        "  if iterations <= 500:\n",
        "    run_to = 10\n",
        "  for i in range(iterations): # iteration for gradient descent\n",
        "    y_pred, weight = hypothesis(x, y_train, weight)\n",
        "    c += 1\n",
        "    if c == 100: # storing MSE after 100 iteration\n",
        "      error = cost(y_pred.T, y_train)\n",
        "      result.append(error)\n",
        "      c = 0\n",
        "      run.append(i)\n",
        "    y_pred = np.transpose(y_pred)\n",
        "    # updating the weights\n",
        "    weight = np.subtract(weight, learning_rate * (((y_pred - y_train) * np.transpose(x)).mean(axis=0)).reshape(3,1))\n",
        "\n",
        "\n",
        "  plt.xlabel(\"Iteration\")\n",
        "  plt.ylabel(\"Cost\")\n",
        "  plt.plot(run, result)\n",
        "  plt.show()\n",
        "  error = 0\n",
        "  return error, weight\n",
        "\n",
        "def predict(x_test, y_test, weight): # prediction using trained weights\n",
        "  x = x_test.copy()\n",
        "  x = np.transpose(x)  \n",
        "  arr = np.ones((1,x_test.shape[0]))\n",
        "  x = np.insert(x, 0, arr, axis=0)\n",
        "  pred, weight = hypothesis(x, y_test, weight)\n",
        "  pred[pred >= 0.5] = 1\n",
        "  pred[pred < 0.5] = 0\n",
        "  return pred.T\n",
        "\n",
        "\n",
        "def Logistic_Regression(x_train, y_train, test, learning_rate, iterations):\n",
        "  error, weight = gradient_descent(x_train, y_train, x_test, learning_rate, iterations)\n",
        "  return error, weight\n",
        "\n",
        "# Running Linear Regression on training dataset\n",
        "\n",
        "error, weight = Logistic_Regression(x_train, y_train, x_test, 0.001, 2000)\n",
        "pred_test = predict(x_test, y_test, weight)"
      ],
      "metadata": {
        "colab": {
          "base_uri": "https://localhost:8080/",
          "height": 279
        },
        "id": "AuJGiNlh8Yw8",
        "outputId": "a1de87ec-7f73-415d-86f2-e09a779b0ded"
      },
      "id": "AuJGiNlh8Yw8",
      "execution_count": 194,
      "outputs": [
        {
          "output_type": "display_data",
          "data": {
            "text/plain": [
              "<Figure size 432x288 with 1 Axes>"
            ],
            "image/png": "[encoded data removed]"
          },
          "metadata": {
            "needs_background": "light"
          }
        }
      ]
    },
    {
      "cell_type": "code",
      "source": [
        "import pandas as pd\n",
        "import seaborn as sns\n",
        "\n",
        "# this eval method is to create a confusion matrix\n",
        "def eval(predict, actual, show_matrix = False, show_heat_map = False):\n",
        "\n",
        "  # Confusion matrix.\n",
        "  data = {0: [0, 0], 1: [0, 0] }\n",
        "\n",
        "  data2 = {\"Accuracy\": [0, 0], 'Precision': [0, 0],\n",
        "          'Recall': [0, 0], 'F1_score': [0, 0]}\n",
        "\n",
        "\n",
        "  df = pd.DataFrame(data)  \n",
        "\n",
        "  # Metrics for each classification.\n",
        "\n",
        "  TP = [0, 0]\n",
        "  TN = [0, 0]\n",
        "  FN = [0, 0]\n",
        "  FP = [0, 0]\n",
        "\n",
        "  Accuracy  = [0, 0]\n",
        "  count = [0, 1]\n",
        "\n",
        "  # Calculating metrics for given dataset\n",
        "\n",
        "  for i in range(0, len(actual)):\n",
        "\n",
        "    if int(predict[i]) == int(actual[i]):\n",
        "      value = df.loc[int(predict[i]), int(predict[i])] + 1\n",
        "\n",
        "      df.loc[int(predict[i]), int(predict[i])] = value + 1\n",
        "\n",
        "    else:\n",
        "      value = df.loc[int(predict[i]), int(actual[i])] + 1\n",
        "      df.loc[int(predict[i]), int(actual[i])] = value + 1\n",
        "\n",
        "  df.iloc[0,0] = df.iloc[0,0]/2\n",
        "  df.iloc[0,1] = df.iloc[0,1]/2\n",
        "  df.iloc[1,0] = df.iloc[1,0]/2\n",
        "  df.iloc[1,1] = df.iloc[1,1]/2\n",
        "\n",
        "  for i in range(0, 2):\n",
        "    FP[i] = df.iloc[:,i].sum() - df.loc[i, i]\n",
        "    TP[i] = df.loc[i, i]\n",
        "    FN[i] = df.iloc[i,:].sum() - df.loc[i, i]\n",
        "\n",
        "\n",
        "    df2 = df.copy()\n",
        "    df2 = df2.drop(i, axis=0)\n",
        "    df2 = df2.drop(i, axis=1)\n",
        "    TN[i] = df2.values.sum()\n",
        "    df2 = df.copy()\n",
        "\n",
        "    Accuracy[i] = (TP[i] + TN[i])/(TP[i]+TN[i]+FP[i]+FN[i])\n",
        "\n",
        "  data2[\"Accuracy\"] = Accuracy\n",
        "\n",
        "  metrics = pd.DataFrame(data2)\n",
        "\n",
        "  if show_matrix == True:\n",
        "    print(metrics)\n",
        "\n",
        "  if show_heat_map == True:\n",
        "    s = sns.heatmap(df, annot=True, fmt='d')\n",
        "    s.set(xlabel='Gold Labels', ylabel='Predicted Labels')\n",
        "    s.set_title('Heat Map')\n",
        "    plt.show()\n",
        "\n",
        "  return Accuracy[0]*100\n",
        "Accuracy = eval(pred_test, actual=y_test, show_heat_map=True)\n",
        "print(\"Accuracy on Testing dataset:\", Accuracy)"
      ],
      "metadata": {
        "colab": {
          "base_uri": "https://localhost:8080/",
          "height": 312
        },
        "id": "ec0E21YkEEqX",
        "outputId": "f7fc7854-219d-4351-f818-cf9550f28eea"
      },
      "id": "ec0E21YkEEqX",
      "execution_count": 192,
      "outputs": [
        {
          "output_type": "display_data",
          "data": {
            "text/plain": [
              "<Figure size 432x288 with 2 Axes>"
            ],
            "image/png": "[encoded data removed]"
          },
          "metadata": {
            "needs_background": "light"
          }
        },
        {
          "output_type": "stream",
          "name": "stdout",
          "text": [
            "Accuracy on Testing dataset: 69.6\n"
          ]
        }
      ]
    },
    {
      "cell_type": "markdown",
      "metadata": {
        "id": "dc1f0697"
      },
      "source": [
        "### Part B: Use Scikit-learn\n",
        "\n",
        "In this part, use scikit-learn’s [Logistic Regression](https://scikit-learn.org/stable/modules/generated/sklearn.linear_model.LogisticRegression.html) implementation to train and test the logistic regression on the provided dataset. Use scikit-learn’s accuracy_score function to calculate the [accuracy](https://scikit-learn.org/stable/modules/generated/sklearn.metrics.accuracy_score.html) and [confusion_matrix](https://scikit-learn.org/stable/modules/generated/sklearn.metrics.confusion_matrix.html) function to calculate confusion matrix on test set."
      ],
      "id": "dc1f0697"
    },
    {
      "cell_type": "code",
      "execution_count": 184,
      "metadata": {
        "id": "c7893b68",
        "colab": {
          "base_uri": "https://localhost:8080/"
        },
        "outputId": "dc021695-2c50-40bd-c9d5-dd18daac4157"
      },
      "outputs": [
        {
          "output_type": "stream",
          "name": "stdout",
          "text": [
            "Accuracy on Testing dataset: 69.544\n",
            "Confusion Matrix:\n",
            " [[8686 3800]\n",
            " [3814 8700]]\n"
          ]
        }
      ],
      "source": [
        "# using sklearn\n",
        "from sklearn.linear_model import LogisticRegression\n",
        "from sklearn.metrics import accuracy_score, confusion_matrix\n",
        "\n",
        "y_trai = y_train.reshape(y_train.shape[0])\n",
        "y_tes = y_test.reshape(y_test.shape[0])\n",
        "\n",
        "# Fitting the training dataset\n",
        "clf = LogisticRegression(random_state=0).fit(x_train, y_train)\n",
        "\n",
        "# prediction on testing\n",
        "y_pred = clf.predict(x_test) \n",
        "\n",
        "print(\"Accuracy on Testing dataset:\", accuracy_score(y_pred, y_tes) * 100)\n",
        "print(\"Confusion Matrix:\\n\", confusion_matrix(y_pred, y_tes))"
      ],
      "id": "c7893b68"
    }
  ],
  "metadata": {
    "colab": {
      "collapsed_sections": [],
      "provenance": []
    },
    "kernelspec": {
      "display_name": "Python 3 (ipykernel)",
      "language": "python",
      "name": "python3"
    },
    "language_info": {
      "codemirror_mode": {
        "name": "ipython",
        "version": 3
      },
      "file_extension": ".py",
      "mimetype": "text/x-python",
      "name": "python",
      "nbconvert_exporter": "python",
      "pygments_lexer": "ipython3",
      "version": "3.9.12"
    }
  },
  "nbformat": 4,
  "nbformat_minor": 5
}