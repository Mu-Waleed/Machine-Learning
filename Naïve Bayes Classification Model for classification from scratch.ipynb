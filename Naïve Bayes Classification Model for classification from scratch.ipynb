{
  "cells": [
    {
      "cell_type": "markdown",
      "metadata": {
        "id": "tt1HeYXZQniq"
      },
      "source": [
        "# Programming Assignment 2: Naïve Bayes\n",
        "## Part 2: Classification\n",
        "\n",
        "#### Name: Muhammad Waleed\n",
        "#### Roll Number: 22030017\n",
        "\n",
        "### Instructions\n",
        "*   In this part of the assignment you will be implementing a Naïve Bayes Classification Model for classification from scratch.\n",
        "*   Your code must be in the Python programming language.\n",
        "*   You are encouraged to use procedural programming and throughly comment your code.\n",
        "*   For Part 2, you can only use standard libraries i.e. numpy, pandas, regex, matplotlib and scipy. You are **not** allowed to use any machine learning toolkits or libraries for training and testing your model. \n",
        "*   **Carefully read the submission guidelines, plagiarism and late days policy.**\n",
        "\n",
        "### Submission Guidelines\n",
        "Submit your code both as notebook file (.ipynb) and python script (.py) as individual files on LMS. Name both files as RollNumber_PA2_PartNum, i.e. this part should be named as `2xxxxxxx_PA4_2`. If you don’t know how to save .ipynb as .py see [this](https://i.stack.imgur.com/L1rQH.png). Failing to submit any one of them might result in the reduction of marks. All cells **MUST** be run to get credit.\n",
        "\n",
        "### Plagiarism Policy\n",
        "The code **MUST** be done independently. Any plagiarism or cheating of work from others or the internet will be immediately referred to the DC. If you are confused about what constitutes plagiarism, it is **YOUR** responsibility to consult with the instructor or the TA in a timely manner. No “after the fact” negotiations will be possible. The only way to guarantee that you do not lose marks is **DO NOT LOOK AT ANYONE ELSE'S CODE NOR DISCUSS IT WITH THEM**.\n",
        "\n",
        "### Late Days Policy\n",
        "\n",
        "The deadline for the assignment is final. However, in order to accommodate all the 11th-hour issues, there is a late submission policy i.e. you can submit your assignment within 3 days after the deadline with a 25% deduction each day.\n"
      ]
    },
    {
      "cell_type": "markdown",
      "metadata": {
        "id": "LPOrUTWOQnix"
      },
      "source": [
        "### Introduction\n",
        "\n",
        "In this part, you will be implementing and training a Naïve Bayes Classification model to classify news articles into different categories. Specifically, you will need to implement [this](https://drive.google.com/file/d/1lNXwNpU6ydeP8I6cPsXLdbA4RQu17G9E/view?usp=sharing) algorithm. For more details of the algorithm and insights into the Naïve Bayes, you can also consult [Chapter 4](https://web.stanford.edu/~jurafsky/slp3/4.pdf) of the Speech and Language Processing book as reference.\n",
        "\n",
        "\n",
        "### Dataset\n",
        "You will be using the [AG News Classification Dataset](https://www.kaggle.com/datasets/amananandrai/ag-news-classification-dataset) for the purposes of this part of the assignment. This contains 120,000 training samples and 7600 testing samples of news articles belonging to 4 categories: World, Sports, Business, and Sci/Tech. \n",
        "The data has already been spilt into train and test files.\n",
        "You're required to implement a model that classifies the articles among the 4 aforementioned categories."
      ]
    },
    {
      "cell_type": "markdown",
      "metadata": {
        "id": "Q1GuGJcZQniz"
      },
      "source": [
        "Start by importing all required libraries here."
      ]
    },
    {
      "cell_type": "code",
      "execution_count": 344,
      "metadata": {
        "id": "gY_OBRY9Qniz"
      },
      "outputs": [],
      "source": [
        "import re\n",
        "import numpy as np\n",
        "import pandas as pd\n",
        "import matplotlib.pyplot as plt\n",
        "import seaborn as sns"
      ]
    },
    {
      "cell_type": "markdown",
      "metadata": {
        "id": "DCAgt1FPQni1"
      },
      "source": [
        "### 2.1 - Loading and Preprocessing the Dataset"
      ]
    },
    {
      "cell_type": "code",
      "source": [
        "from google.colab import drive\n",
        "drive.mount('/content/drive')"
      ],
      "metadata": {
        "colab": {
          "base_uri": "https://localhost:8080/"
        },
        "id": "7gw3m8a2eoAe",
        "outputId": "6fee9483-2673-449f-885b-a01c12a652c4"
      },
      "execution_count": 151,
      "outputs": [
        {
          "output_type": "stream",
          "name": "stdout",
          "text": [
            "Drive already mounted at /content/drive; to attempt to forcibly remount, call drive.mount(\"/content/drive\", force_remount=True).\n"
          ]
        }
      ]
    },
    {
      "cell_type": "markdown",
      "metadata": {
        "id": "_YWpNTibQni2"
      },
      "source": [
        "Load the dataset - both training and test samples"
      ]
    },
    {
      "cell_type": "code",
      "execution_count": 345,
      "metadata": {
        "id": "fn1blv8PQni3",
        "colab": {
          "base_uri": "https://localhost:8080/",
          "height": 206
        },
        "outputId": "72d1e0a0-2a34-4774-cd8f-fe1fae34eb42"
      },
      "outputs": [
        {
          "output_type": "execute_result",
          "data": {
            "text/plain": [
              "   Class Index                                              Title  \\\n",
              "0            3  Wall St. Bears Claw Back Into the Black (Reuters)   \n",
              "1            3  Carlyle Looks Toward Commercial Aerospace (Reu...   \n",
              "2            3    Oil and Economy Cloud Stocks' Outlook (Reuters)   \n",
              "3            3  Iraq Halts Oil Exports from Main Southern Pipe...   \n",
              "4            3  Oil prices soar to all-time record, posing new...   \n",
              "\n",
              "                                         Description  \n",
              "0  Reuters - Short-sellers, Wall Street's dwindli...  \n",
              "1  Reuters - Private investment firm Carlyle Grou...  \n",
              "2  Reuters - Soaring crude prices plus worries\\ab...  \n",
              "3  Reuters - Authorities have halted oil export\\f...  \n",
              "4  AFP - Tearaway world oil prices, toppling reco...  "
            ],
            "text/html": [
              "\n",
              "  <div id=\"df-7d40229f-a86c-444b-baac-356874d3f261\">\n",
              "    <div class=\"colab-df-container\">\n",
              "      <div>\n",
              "<style scoped>\n",
              "    .dataframe tbody tr th:only-of-type {\n",
              "        vertical-align: middle;\n",
              "    }\n",
              "\n",
              "    .dataframe tbody tr th {\n",
              "        vertical-align: top;\n",
              "    }\n",
              "\n",
              "    .dataframe thead th {\n",
              "        text-align: right;\n",
              "    }\n",
              "</style>\n",
              "<table border=\"1\" class=\"dataframe\">\n",
              "  <thead>\n",
              "    <tr style=\"text-align: right;\">\n",
              "      <th></th>\n",
              "      <th>Class Index</th>\n",
              "      <th>Title</th>\n",
              "      <th>Description</th>\n",
              "    </tr>\n",
              "  </thead>\n",
              "  <tbody>\n",
              "    <tr>\n",
              "      <th>0</th>\n",
              "      <td>3</td>\n",
              "      <td>Wall St. Bears Claw Back Into the Black (Reuters)</td>\n",
              "      <td>Reuters - Short-sellers, Wall Street's dwindli...</td>\n",
              "    </tr>\n",
              "    <tr>\n",
              "      <th>1</th>\n",
              "      <td>3</td>\n",
              "      <td>Carlyle Looks Toward Commercial Aerospace (Reu...</td>\n",
              "      <td>Reuters - Private investment firm Carlyle Grou...</td>\n",
              "    </tr>\n",
              "    <tr>\n",
              "      <th>2</th>\n",
              "      <td>3</td>\n",
              "      <td>Oil and Economy Cloud Stocks' Outlook (Reuters)</td>\n",
              "      <td>Reuters - Soaring crude prices plus worries\\ab...</td>\n",
              "    </tr>\n",
              "    <tr>\n",
              "      <th>3</th>\n",
              "      <td>3</td>\n",
              "      <td>Iraq Halts Oil Exports from Main Southern Pipe...</td>\n",
              "      <td>Reuters - Authorities have halted oil export\\f...</td>\n",
              "    </tr>\n",
              "    <tr>\n",
              "      <th>4</th>\n",
              "      <td>3</td>\n",
              "      <td>Oil prices soar to all-time record, posing new...</td>\n",
              "      <td>AFP - Tearaway world oil prices, toppling reco...</td>\n",
              "    </tr>\n",
              "  </tbody>\n",
              "</table>\n",
              "</div>\n",
              "      <button class=\"colab-df-convert\" onclick=\"convertToInteractive('df-7d40229f-a86c-444b-baac-356874d3f261')\"\n",
              "              title=\"Convert this dataframe to an interactive table.\"\n",
              "              style=\"display:none;\">\n",
              "        \n",
              "  <svg xmlns=\"http://www.w3.org/2000/svg\" height=\"24px\"viewBox=\"0 0 24 24\"\n",
              "       width=\"24px\">\n",
              "    <path d=\"M0 0h24v24H0V0z\" fill=\"none\"/>\n",
              "    <path d=\"M18.56 5.44l.94 2.06.94-2.06 2.06-.94-2.06-.94-.94-2.06-.94 2.06-2.06.94zm-11 1L8.5 8.5l.94-2.06 2.06-.94-2.06-.94L8.5 2.5l-.94 2.06-2.06.94zm10 10l.94 2.06.94-2.06 2.06-.94-2.06-.94-.94-2.06-.94 2.06-2.06.94z\"/><path d=\"M17.41 7.96l-1.37-1.37c-.4-.4-.92-.59-1.43-.59-.52 0-1.04.2-1.43.59L10.3 9.45l-7.72 7.72c-.78.78-.78 2.05 0 2.83L4 21.41c.39.39.9.59 1.41.59.51 0 1.02-.2 1.41-.59l7.78-7.78 2.81-2.81c.8-.78.8-2.07 0-2.86zM5.41 20L4 18.59l7.72-7.72 1.47 1.35L5.41 20z\"/>\n",
              "  </svg>\n",
              "      </button>\n",
              "      \n",
              "  <style>\n",
              "    .colab-df-container {\n",
              "      display:flex;\n",
              "      flex-wrap:wrap;\n",
              "      gap: 12px;\n",
              "    }\n",
              "\n",
              "    .colab-df-convert {\n",
              "      background-color: #E8F0FE;\n",
              "      border: none;\n",
              "      border-radius: 50%;\n",
              "      cursor: pointer;\n",
              "      display: none;\n",
              "      fill: #1967D2;\n",
              "      height: 32px;\n",
              "      padding: 0 0 0 0;\n",
              "      width: 32px;\n",
              "    }\n",
              "\n",
              "    .colab-df-convert:hover {\n",
              "      background-color: #E2EBFA;\n",
              "      box-shadow: 0px 1px 2px rgba(60, 64, 67, 0.3), 0px 1px 3px 1px rgba(60, 64, 67, 0.15);\n",
              "      fill: #174EA6;\n",
              "    }\n",
              "\n",
              "    [theme=dark] .colab-df-convert {\n",
              "      background-color: #3B4455;\n",
              "      fill: #D2E3FC;\n",
              "    }\n",
              "\n",
              "    [theme=dark] .colab-df-convert:hover {\n",
              "      background-color: #434B5C;\n",
              "      box-shadow: 0px 1px 3px 1px rgba(0, 0, 0, 0.15);\n",
              "      filter: drop-shadow(0px 1px 2px rgba(0, 0, 0, 0.3));\n",
              "      fill: #FFFFFF;\n",
              "    }\n",
              "  </style>\n",
              "\n",
              "      <script>\n",
              "        const buttonEl =\n",
              "          document.querySelector('#df-7d40229f-a86c-444b-baac-356874d3f261 button.colab-df-convert');\n",
              "        buttonEl.style.display =\n",
              "          google.colab.kernel.accessAllowed ? 'block' : 'none';\n",
              "\n",
              "        async function convertToInteractive(key) {\n",
              "          const element = document.querySelector('#df-7d40229f-a86c-444b-baac-356874d3f261');\n",
              "          const dataTable =\n",
              "            await google.colab.kernel.invokeFunction('convertToInteractive',\n",
              "                                                     [key], {});\n",
              "          if (!dataTable) return;\n",
              "\n",
              "          const docLinkHtml = 'Like what you see? Visit the ' +\n",
              "            '<a target=\"_blank\" href=https://colab.research.google.com/notebooks/data_table.ipynb>data table notebook</a>'\n",
              "            + ' to learn more about interactive tables.';\n",
              "          element.innerHTML = '';\n",
              "          dataTable['output_type'] = 'display_data';\n",
              "          await google.colab.output.renderOutput(dataTable, element);\n",
              "          const docLink = document.createElement('div');\n",
              "          docLink.innerHTML = docLinkHtml;\n",
              "          element.appendChild(docLink);\n",
              "        }\n",
              "      </script>\n",
              "    </div>\n",
              "  </div>\n",
              "  "
            ]
          },
          "metadata": {},
          "execution_count": 345
        }
      ],
      "source": [
        "# code here\n",
        "# Reading the dataset\n",
        "DataP2 = \"/content/drive/MyDrive/Assignment 4/Assignment 4/DataP2/\"\n",
        "\n",
        "train = pd.read_csv(DataP2 + \"train.csv\")\n",
        "test = pd.read_csv(DataP2 + \"test.csv\")\n",
        "\n",
        "train.head()"
      ]
    },
    {
      "cell_type": "markdown",
      "metadata": {
        "id": "n6Lk0XtSQni3"
      },
      "source": [
        "Use regex to pre-process the data loaded. Go through the data and use your own discretion to decide on what kind of pre-processing might be required."
      ]
    },
    {
      "cell_type": "code",
      "execution_count": 346,
      "metadata": {
        "id": "XMoPPT0NQni4",
        "colab": {
          "base_uri": "https://localhost:8080/"
        },
        "outputId": "ab65a03b-443f-4dbc-939b-3672ccfad012"
      },
      "outputs": [
        {
          "output_type": "stream",
          "name": "stdout",
          "text": [
            "Total Classes: 4\n"
          ]
        }
      ],
      "source": [
        "# code here\n",
        "\n",
        "print(f\"Total Classes:\", len(train[\"Class Index\"].unique()))\n",
        "# reading stop words\n",
        "with open(DataP2 + \"stop_words.txt\", \"r\") as f:\n",
        "  stop_words = f.readlines()\n",
        "  stop_words_list = []\n",
        "  for i in stop_words:\n",
        "    i = i.replace(\"\\n\", \"\")\n",
        "    i = re.sub(r'[^\\w\\s]', '', i)\n",
        "    stop_words_list.append(i)\n",
        "# preprocessing\n",
        "def pre_process(df):\n",
        "    l = []\n",
        "    for i in df:\n",
        "        s = re.sub(r\"http\\S+|'s|\\n|#\\S+|@\\S+|[0-9]|[^\\w\\s]|_\", \" \", i) # removing links, line breaks, removing tags, punctutations, numbers, single alphabets\n",
        "        s = re.sub(r\"\\b[a-zA-Z]\\b\", \"\", s)\n",
        "        s = s.lower()\n",
        "        para = s.split(\" \")\n",
        "        para_copy = para.copy()\n",
        "        for j in para_copy:\n",
        "            if j in stop_words_list or len(j) <= 2:  # removing the stops words\n",
        "                para.remove(j)\n",
        "\n",
        "        para = \" \".join(para)\n",
        "        if len(para) != 0:\n",
        "            para = para.lstrip()\n",
        "            para = para.replace(\"  \", \" \")\n",
        "            l.append(para)\n",
        "    \n",
        "    return l"
      ]
    },
    {
      "cell_type": "code",
      "source": [
        "# Calling the pre-processing on traing and testing dataset\n",
        "\n",
        "test[\"Test\"] = test[\"Title\"] + \" \" + test[\"Description\"]\n",
        "train[\"Test\"] = train[\"Title\"] + \" \" + train[\"Description\"]\n",
        "\n",
        "processed_train = pre_process(train[\"Test\"])\n",
        "processed_test = pre_process(test[\"Test\"])"
      ],
      "metadata": {
        "id": "5CaJxlGvRgaY"
      },
      "execution_count": 347,
      "outputs": []
    },
    {
      "cell_type": "code",
      "source": [
        "# merging the processed data to dataframe\n",
        "train[\"processed_Test\"] = processed_train\n",
        "test[\"processed_Test\"] = processed_test"
      ],
      "metadata": {
        "id": "sRwYU702aSEo"
      },
      "execution_count": 348,
      "outputs": []
    },
    {
      "cell_type": "markdown",
      "metadata": {
        "id": "mfvtw7cvQni5"
      },
      "source": [
        "Show the results of your preprocessing by printing a random sample of 10 articles before and after pre-processing."
      ]
    },
    {
      "cell_type": "code",
      "execution_count": 349,
      "metadata": {
        "id": "TjqzYtuaQni6",
        "colab": {
          "base_uri": "https://localhost:8080/"
        },
        "outputId": "ac28aa34-5331-4fb8-8fe5-dbbad376754b"
      },
      "outputs": [
        {
          "output_type": "stream",
          "name": "stdout",
          "text": [
            "Before: Wall St. Bears Claw Back Into the Black (Reuters) Reuters - Short-sellers, Wall Street's dwindling\\band of ultra-cynics, are seeing green again.\n",
            "After: wall bears claw back black reuters reuters short sellers wall street dwindling band ultra cynics seeing green\n",
            "\n",
            "Before: Carlyle Looks Toward Commercial Aerospace (Reuters) Reuters - Private investment firm Carlyle Group,\\which has a reputation for making well-timed and occasionally\\controversial plays in the defense industry, has quietly placed\\its bets on another part of the market.\n",
            "After: carlyle looks toward commercial aerospace reuters reuters private investment firm carlyle group reputation making well timed occasionally controversial plays defense industry quietly placed bets another part market\n",
            "\n",
            "Before: Oil and Economy Cloud Stocks' Outlook (Reuters) Reuters - Soaring crude prices plus worries\\about the economy and the outlook for earnings are expected to\\hang over the stock market next week during the depth of the\\summer doldrums.\n",
            "After: oil economy cloud stocks outlook reuters reuters soaring crude prices plus worries economy outlook earnings expected hang stock market next week depth summer doldrums\n",
            "\n",
            "Before: Iraq Halts Oil Exports from Main Southern Pipeline (Reuters) Reuters - Authorities have halted oil export\\flows from the main pipeline in southern Iraq after\\intelligence showed a rebel militia could strike\\infrastructure, an oil official said on Saturday.\n",
            "After: iraq halts oil exports main southern pipeline reuters reuters authorities halted oil export flows main pipeline southern iraq intelligence showed rebel militia could strike infrastructure oil official said saturday\n",
            "\n",
            "Before: Oil prices soar to all-time record, posing new menace to US economy (AFP) AFP - Tearaway world oil prices, toppling records and straining wallets, present a new economic menace barely three months before the US presidential elections.\n",
            "After: oil prices soar time record posing new menace economy afp afp tearaway world oil prices toppling records straining wallets present new economic menace barely three months presidential elections\n",
            "\n",
            "Before: Stocks End Up, But Near Year Lows (Reuters) Reuters - Stocks ended slightly higher on Friday\\but stayed near lows for the year as oil prices surged past  #36;46\\a barrel, offsetting a positive outlook from computer maker\\Dell Inc. (DELL.O)\n",
            "After: stocks end near year lows reuters reuters stocks ended slightly higher friday stayed near lows year oil prices surged past barrel offsetting positive outlook computer maker dell inc dell\n",
            "\n",
            "Before: Money Funds Fell in Latest Week (AP) AP - Assets of the nation's retail money market mutual funds fell by  #36;1.17 billion in the latest week to  #36;849.98 trillion, the Investment Company Institute said Thursday.\n",
            "After: money funds fell latest week assets nation retail money market mutual funds fell billion latest week trillion investment company institute said thursday\n",
            "\n",
            "Before: Fed minutes show dissent over inflation (USATODAY.com) USATODAY.com - Retail sales bounced back a bit in July, and new claims for jobless benefits fell last week, the government said Thursday, indicating the economy is improving from a midsummer slump.\n",
            "After: fed minutes show dissent inflation usatoday com usatoday com retail sales bounced back bit july new claims jobless benefits fell last week government said thursday indicating economy improving midsummer slump\n",
            "\n",
            "Before: Safety Net (Forbes.com) Forbes.com - After earning a PH.D. in Sociology, Danny Bazil Riley started to work as the general manager at a commercial real estate firm at an annual base salary of  #36;70,000. Soon after, a financial planner stopped by his desk to drop off brochures about insurance benefits available through his employer. But, at 32, \"buying insurance was the furthest thing from my mind,\" says Riley.\n",
            "After: safety net forbes com forbes com earning sociology danny bazil riley started work general manager commercial real estate firm annual base salary soon financial planner stopped desk drop brochures insurance benefits available employer buying insurance furthest thing mind says riley\n",
            "\n",
            "Before: Wall St. Bears Claw Back Into the Black  NEW YORK (Reuters) - Short-sellers, Wall Street's dwindling  band of ultra-cynics, are seeing green again.\n",
            "After: wall bears claw back black new york reuters short sellers wall street dwindling band ultra cynics seeing green\n",
            "\n"
          ]
        }
      ],
      "source": [
        "# code here\n",
        "for i in range(0, 10):\n",
        "  print(\"Before:\", train[\"Test\"][i])\n",
        "  print(\"After:\", train[\"processed_Test\"][i])\n",
        "  print(\"\")"
      ]
    },
    {
      "cell_type": "markdown",
      "metadata": {
        "id": "olF3iZ4tQni6"
      },
      "source": [
        "### 2.2 - Training Naïve Bayes"
      ]
    },
    {
      "cell_type": "markdown",
      "metadata": {
        "id": "6YTpKwpBQni6"
      },
      "source": [
        "Create a bag of words representation for the data. Also report the number of unique words in your vocabulary, as well as in each class."
      ]
    },
    {
      "cell_type": "code",
      "execution_count": 350,
      "metadata": {
        "id": "ahP_U8qbQni7",
        "colab": {
          "base_uri": "https://localhost:8080/"
        },
        "outputId": "af31efc5-c721-4c54-aa82-86372388836d"
      },
      "outputs": [
        {
          "output_type": "stream",
          "name": "stdout",
          "text": [
            "Vocab: 61059\n"
          ]
        }
      ],
      "source": [
        "# code here\n",
        "# making vocabulary by getting unique words in training dataset\n",
        "def make_vocabulary(df, unqiue=True):\n",
        "    l = []\n",
        "    for each_article in df:\n",
        "        words = each_article.split(\" \")\n",
        "        for each_word in words:\n",
        "            l.append(each_word)\n",
        "    l = np.array(l)\n",
        "    if unqiue == True:\n",
        "      l = np.unique(l)\n",
        "    return l\n",
        "\n",
        "vocab = make_vocabulary(train[\"processed_Test\"])\n",
        "print(\"Vocab:\", len(vocab))"
      ]
    },
    {
      "cell_type": "code",
      "source": [
        "# Creating bag of words for train and test\n",
        "\n",
        "def make_bag_of_words(vocab, df):\n",
        "    df = make_vocabulary(df, False)\n",
        "    temp = [1] * len(vocab)\n",
        "    dic = np.unique(df, return_counts=True)\n",
        "    words = dic[0]\n",
        "    freq = dic[1]\n",
        "    for i in range(0, len(words)):\n",
        "      if words[i] in vocab:\n",
        "        ind = np.where(vocab == words[i])[0]\n",
        "        if len(ind) >= 1 :\n",
        "          ind = ind[0]\n",
        "          temp[ind] = temp[ind] + freq[i]\n",
        "    return temp\n",
        "\n",
        "\n",
        "# Separating by class for training and testing\n",
        "processed_train_1 = train[train.iloc[:, 0] == 1][\"processed_Test\"]\n",
        "processed_train_2 = train[train.iloc[:, 0] == 2][\"processed_Test\"]\n",
        "processed_train_3 = train[train.iloc[:, 0] == 3][\"processed_Test\"]\n",
        "processed_train_4 = train[train.iloc[:, 0] == 4][\"processed_Test\"]\n",
        "\n",
        "processed_test_1 = test[test.iloc[:, 0] == 1][\"processed_Test\"]\n",
        "processed_test_2 = test[test.iloc[:, 0] == 2][\"processed_Test\"]\n",
        "processed_test_3 = test[test.iloc[:, 0] == 3][\"processed_Test\"]\n",
        "processed_test_4 = test[test.iloc[:, 0] == 4][\"processed_Test\"]\n",
        "\n",
        "# Bag of words for each Separate class\n",
        "bag_of_words_train_1 = make_bag_of_words(vocab, processed_train_1)\n",
        "bag_of_words_train_2 = make_bag_of_words(vocab, processed_train_2)\n",
        "bag_of_words_train_3 = make_bag_of_words(vocab, processed_train_3)\n",
        "bag_of_words_train_4 = make_bag_of_words(vocab, processed_train_4)"
      ],
      "metadata": {
        "id": "dr-SHVLgAsBG"
      },
      "execution_count": 351,
      "outputs": []
    },
    {
      "cell_type": "code",
      "source": [
        "# Getting the acutal ouput of test dataset for evaluation\n",
        "\n",
        "processed_test_1_actual_labels = test[test.iloc[:, 0] == 1][\"Class Index\"]\n",
        "processed_test_2_actual_labels = test[test.iloc[:, 0] == 2][\"Class Index\"]\n",
        "processed_test_3_actual_labels = test[test.iloc[:, 0] == 3][\"Class Index\"]\n",
        "processed_test_4_actual_labels = test[test.iloc[:, 0] == 4][\"Class Index\"]\n",
        "\n",
        "y_test = processed_test_1_actual_labels.tolist() + processed_test_2_actual_labels.tolist() + processed_test_3_actual_labels.tolist() + processed_test_4_actual_labels.tolist()\n",
        "print(\"Total test instances:\", len(y_test))"
      ],
      "metadata": {
        "id": "qIoypf8P7ENj",
        "colab": {
          "base_uri": "https://localhost:8080/"
        },
        "outputId": "9f0a5465-6492-4209-e53f-6b8fbfa791eb"
      },
      "execution_count": 352,
      "outputs": [
        {
          "output_type": "stream",
          "name": "stdout",
          "text": [
            "Total test instances: 7600\n"
          ]
        }
      ]
    },
    {
      "cell_type": "markdown",
      "metadata": {
        "id": "jSehCymcQni7"
      },
      "source": [
        "Implement a general `trainNaiveBayes` function that returns log priors and liklehoods for each class in a given dataset. Apply Laplace smoothing."
      ]
    },
    {
      "cell_type": "code",
      "execution_count": 353,
      "metadata": {
        "id": "JMpk6WYzQni8"
      },
      "outputs": [],
      "source": [
        "# code here\n",
        "# Training\n",
        "def trainNaiveBayes(train, vocab, bag_of_words, c):\n",
        "  logprior = []\n",
        "  loglikelyhood = []\n",
        "  for i in range(0, len(c)):\n",
        "    N_doc = len(train[\"Title\"])\n",
        "    track = i\n",
        "    N_c = len(train[train[\"Class Index\"] == i+1])\n",
        "    logprior_class = N_c/N_doc\n",
        "    logg = np.log(track+1)\n",
        "    logprior.append(logprior_class)\n",
        "    bag = np.array(bag_of_words[i])\n",
        "    all_words_sum = sum(bag)\n",
        "    loglikelyhood_class = bag/all_words_sum\n",
        "    loglikelyhood.append(loglikelyhood_class)\n",
        "  return logprior, loglikelyhood\n"
      ]
    },
    {
      "cell_type": "markdown",
      "metadata": {
        "id": "IXLaR83tQni8"
      },
      "source": [
        "Call the function on the training data to train your model."
      ]
    },
    {
      "cell_type": "code",
      "execution_count": 354,
      "metadata": {
        "id": "PMvD6LxhQni8"
      },
      "outputs": [],
      "source": [
        "# code here\n",
        "bag_of_words = [bag_of_words_train_1, bag_of_words_train_2, bag_of_words_train_3, bag_of_words_train_4] # Each nested list contains bag of words per article having same class\n",
        "c = [processed_train_1, processed_train_2, processed_train_3, processed_train_4] # Each nested list contains articles having same class\n",
        "\n",
        "logprior, loglikelihood = trainNaiveBayes(train, vocab, bag_of_words,c)"
      ]
    },
    {
      "cell_type": "markdown",
      "metadata": {
        "id": "EWKy5TyTQni9"
      },
      "source": [
        "### 2.3 - Testing Naïve Bayes"
      ]
    },
    {
      "cell_type": "markdown",
      "metadata": {
        "id": "TAGQLy4aQni9"
      },
      "source": [
        "Create a `testNaiveBayes` function that return predicted class for each article."
      ]
    },
    {
      "cell_type": "code",
      "execution_count": 355,
      "metadata": {
        "id": "CgnzE3GqQni9"
      },
      "outputs": [],
      "source": [
        "# code here\n",
        "\n",
        "# Method for testing\n",
        "def testNaiveBayes(testdoc, logprior, loglikelihood, c, vocab):\n",
        "  result = []\n",
        "  for i in range(0, len(testdoc)):\n",
        "    result2 = []\n",
        "    for j in c[i]:\n",
        "      splits = j.split(\" \")\n",
        "      for k in splits:\n",
        "        if k not in vocab:\n",
        "          splits.remove(k)\n",
        "      all_likely = []\n",
        "      for i in range(0, len(testdoc)):\n",
        "        likely = logprior[i]\n",
        "        for s in splits:\n",
        "          try:\n",
        "            ind = np.where(vocab == s)[0][0]\n",
        "            likely = likely*loglikelihood[i][ind]\n",
        "          except:\n",
        "            pass\n",
        "        all_likely.append(likely)\n",
        "      result2.append(all_likely.index(max(all_likely))+1) \n",
        "    result.append(result2)\n",
        "\n",
        "  return result"
      ]
    },
    {
      "cell_type": "markdown",
      "metadata": {
        "id": "mvmAv6gXQni-"
      },
      "source": [
        "Create an `evaluation` function that returns the accuracy, f1 score, and confusion matrix for test predictions"
      ]
    },
    {
      "cell_type": "code",
      "execution_count": 362,
      "metadata": {
        "id": "tszaJc-8Qni-"
      },
      "outputs": [],
      "source": [
        "# code here\n",
        "\n",
        "\n",
        "# this eval method is to create a confusion matrix\n",
        "def evaluation (predict, actual, show_matrix = False, show_heat_map = False, distance=\"Euclidean\"):\n",
        "\n",
        "  # Confusion matrix.\n",
        "  data = {'0': [0, 0, 0, 0], '1': [0, 0, 0, 0],\n",
        "          '2': [0, 0, 0, 0], '3': [0, 0, 0, 0]}\n",
        "\n",
        "  data2 = {\"Index Class\": [1,2,3,4], \"Accuracy\": [0, 0, 0, 0], 'Precision': [0, 0, 0, 0],\n",
        "          'Recall': [0, 0, 0, 0], 'F1_score': [0, 0, 0, 0]}\n",
        "\n",
        "\n",
        "  df = pd.DataFrame(data)  \n",
        "\n",
        "  # Metrics for each classification.\n",
        "\n",
        "  TP = [0, 0, 0, 0]\n",
        "  TN = [0, 0, 0, 0]\n",
        "  FN = [0, 0, 0, 0]\n",
        "  FP = [0, 0, 0, 0]\n",
        "\n",
        "  Accuracy  = [0, 0, 0, 0]\n",
        "  Precision  = [0, 0, 0, 0]\n",
        "  Recall = [0, 0, 0, 0]\n",
        "  F1_score = [0, 0, 0, 0]\n",
        "\n",
        "  count = [1, 2, 3, 4]\n",
        "\n",
        "  # Calculating metrics for given dataset\n",
        "\n",
        "  for i in range(0, len(actual)):\n",
        "    if int(predict[i]) == int(actual[i]):\n",
        "      value = df.loc[int(predict[i]), [str(int(predict[i]))]][0] + 1\n",
        "\n",
        "      df.loc[int(predict[i]), [str(int(predict[i]))]] = value + 1\n",
        "\n",
        "    else:\n",
        "      value = df.loc[int(actual[i]), [str(int(predict[i]))]][0] + 1\n",
        "      df.loc[int(actual[i]), [str(int(predict[i]))]] = value + 1\n",
        "\n",
        "  \n",
        "  for i in range(0, 4):\n",
        "    FP[i] = df.iloc[:,i].sum() - df.loc[i, [str(i)]][0]\n",
        "    TP[i] = df.loc[i, [str(i)]][0]\n",
        "    FN[i] = df.iloc[i,:].sum() - df.loc[i, [str(i)]][0]\n",
        "\n",
        "\n",
        "    df2 = df.copy()\n",
        "    df2 = df2.drop(i, axis=0)\n",
        "    df2 = df2.drop(str(i), axis=1)\n",
        "    TN[i] = df2.values.sum()\n",
        "    df2 = df.copy()\n",
        "\n",
        "    Accuracy[i] = (TP[i] + TN[i])/(TP[i]+TN[i]+FP[i]+FN[i])\n",
        "    Precision[i] = TP[i]/(TP[i]+FP[i])\n",
        "    Recall[i] = TP[i]/(TP[i]+FN[i])\n",
        "    F1_score = (2*TP[i])/(2*TP[i]+FP[i]+FN[i])\n",
        "\n",
        "  data2[\"Accuracy\"] = Accuracy\n",
        "  data2[\"Precision\"] = Precision\n",
        "  data2[\"Recall\"] = Recall\n",
        "  data2[\"F1_score\"] = F1_score\n",
        "\n",
        "  metrics = pd.DataFrame(data2)\n",
        "  df.rename(columns = {'0':'1', '1':'2', '2':'3', '3':'4'}, inplace = True)\n",
        "  df.index = ['1', '2', '3', '4']\n",
        "  if show_matrix == True:\n",
        "    print(metrics)\n",
        "    print()\n",
        "\n",
        "  if show_heat_map == True:\n",
        "    s = sns.heatmap(df, annot=True, fmt='d')\n",
        "    s.set(xlabel='Gold Labels', ylabel='Predicted Labels')\n",
        "    s.set_title('Heat Map ' + distance)\n",
        "    plt.show()\n",
        "\n",
        "  return Accuracy, Precision, Recall, F1_score\n"
      ]
    },
    {
      "cell_type": "markdown",
      "metadata": {
        "id": "Bv3AwM9UQni-"
      },
      "source": [
        "Use the defined functions to predict labels for the test data and evaluate your model's performance. Print the output."
      ]
    },
    {
      "cell_type": "code",
      "execution_count": 357,
      "metadata": {
        "id": "x4bj_PNxQni_"
      },
      "outputs": [],
      "source": [
        "# code here\n",
        "testdoc = [bag_of_words_test_1, bag_of_words_test_2, bag_of_words_test_3, bag_of_words_test_4]\n",
        "c = [processed_test_1, processed_test_2, processed_test_3, processed_test_4]\n",
        "y_pred = testNaiveBayes(testdoc, logprior, loglikelihood, c, vocab)"
      ]
    },
    {
      "cell_type": "code",
      "source": [
        "result = []\n",
        "for i in y_pred:\n",
        "  result = result + i\n",
        "result = np.array(result)\n",
        "y_test = np.array(y_test)\n",
        "\n",
        "Accuracy, Precision, Recall, F1_score = evaluation (result-1, actual=y_test-1, show_matrix=True, show_heat_map=True)"
      ],
      "metadata": {
        "colab": {
          "base_uri": "https://localhost:8080/",
          "height": 399
        },
        "id": "HcyMdPcKoL5H",
        "outputId": "97cb5b62-1f7c-4b7d-9fa9-a4e39f287044"
      },
      "execution_count": 364,
      "outputs": [
        {
          "output_type": "stream",
          "name": "stdout",
          "text": [
            "   Index Class  Accuracy  Precision    Recall  F1_score\n",
            "0            1  0.951711   0.912763  0.892105  0.879144\n",
            "1            2  0.981842   0.951332  0.977368  0.879144\n",
            "2            3  0.930526   0.868817  0.850526  0.879144\n",
            "3            4  0.939079   0.872087  0.886316  0.879144\n",
            "\n"
          ]
        },
        {
          "output_type": "display_data",
          "data": {
            "text/plain": [
              "<Figure size 432x288 with 2 Axes>"
            ],
            "image/png": "[encoded data removed]"
          },
          "metadata": {
            "needs_background": "light"
          }
        }
      ]
    },
    {
      "cell_type": "markdown",
      "metadata": {
        "id": "xQvq13l6Qni_"
      },
      "source": [
        "### 2.4 - Discussion"
      ]
    },
    {
      "cell_type": "markdown",
      "metadata": {
        "id": "yv5nPq4tQni_"
      },
      "source": [
        "Answer the following questions:\n",
        "- How did you decide what kind of pre-processing to do? How did this effect the performance of the classifier?\n",
        "- How does your f1 score rate the performance of your model? What can be done to improve it?\n",
        "- The given dataset has an equal number of samples in each class. How, if at all, would the performance of the model change if the data had a class imbalance?\n",
        "- The fundamental Naïve Bayes assumption is that each feature makes an independent and equal contribution to the outcome. Is this strictly true for this dataset? How might the assumption have impacted the predictions?"
      ]
    },
    {
      "cell_type": "markdown",
      "metadata": {
        "id": "s-AIvIehQnjA"
      },
      "source": [
        "###Ques 1. How did you decide what kind of pre-processing to do? How did this effect the performance of the classifier?\n",
        "\n",
        "Ans: I removed the following things:\n",
        "\n",
        "1) Stop words: as they are common and not useful to determine the class.\n",
        "\n",
        "2) Single characters: as they are common too and makes no sense for class.\n",
        "\n",
        "3) Double characters: very few and are not articles specific.\n",
        "\n",
        "4) Punctuations: as they can give a negative impact.\n",
        "\n",
        "5) Tags: They are few and diverse so it is not worth it.\n",
        "\n",
        "6) Numbers: Same, as numbers are not useful.\n",
        "\n",
        "7) Line breaks: Removed \\n.\n",
        "\n",
        "8) Removed links (If present): Links are quite diverse so they are not useful for training.\n",
        "\n",
        "###Ques 2. How does your f1 score rate the performance of your model? What can be done to improve it?\n",
        "\n",
        "Ans: f1 score showing that model is performing quite well.\n",
        "\n",
        "###Ques 3. The given dataset has an equal number of samples in each class. How, if at all, would the performance of the model change if the data had a class imbalance?\n",
        "\n",
        "Ans: The posterior probability will be badly affected by prior if the classes are not balance thus the model will not perform well.\n",
        "\n",
        "###Ques 4. The fundamental Naïve Bayes assumption is that each feature makes an independent and equal contribution to the outcome. Is this strictly true for this dataset? How might the assumption have impacted the predictions?\n",
        "\n",
        "Ans: By considering the current scenario, this is not strictly true. In the document their are pair of words that makes sense together which is not consider in Naive Bayes that can affect the predicitions.\n",
        "\n",
        "\n"
      ]
    },
    {
      "cell_type": "code",
      "source": [],
      "metadata": {
        "id": "kuT7Llk8sBxK"
      },
      "execution_count": null,
      "outputs": []
    }
  ],
  "metadata": {
    "kernelspec": {
      "display_name": "Python 3 (ipykernel)",
      "language": "python",
      "name": "python3"
    },
    "language_info": {
      "codemirror_mode": {
        "name": "ipython",
        "version": 3
      },
      "file_extension": ".py",
      "mimetype": "text/x-python",
      "name": "python",
      "nbconvert_exporter": "python",
      "pygments_lexer": "ipython3",
      "version": "3.9.12"
    },
    "vscode": {
      "interpreter": {
        "hash": "bf4fbbcfb44b62809ee9ef976aff62d8f85ac4ea82e40788fda9594addf376e6"
      }
    },
    "colab": {
      "provenance": []
    }
  },
  "nbformat": 4,
  "nbformat_minor": 0
}